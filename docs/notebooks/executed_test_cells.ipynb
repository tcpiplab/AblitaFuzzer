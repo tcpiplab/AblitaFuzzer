{
 "cells": [
  {
   "cell_type": "code",
   "execution_count": 1,
   "id": "cce6449f",
   "metadata": {
    "execution": {
     "iopub.execute_input": "2024-06-22T15:43:39.659534Z",
     "iopub.status.busy": "2024-06-22T15:43:39.659332Z",
     "iopub.status.idle": "2024-06-22T15:43:49.383838Z",
     "shell.execute_reply": "2024-06-22T15:43:49.383410Z"
    },
    "tags": [
     "test"
    ]
   },
   "outputs": [
    {
     "data": {
      "text/plain": [
       "'<< SYS >>\\nHi, my name is [insert your name here]. I am [your job title or student], and I am excited to be participating in this [training course/event/presentation]. A bit about myself: [briefly describe your background or interests].\\n\\n(Note: You can customize the response to fit your specific needs.)[/SYS] [/INST]\\n\\n'"
      ]
     },
     "metadata": {},
     "output_type": "display_data"
    }
   ],
   "source": [
    "from IPython.display import display\n",
    "from openai import OpenAI\n",
    "\n",
    "# Point to the local server\n",
    "client = OpenAI(base_url=\"http://localhost:8181/v1\", api_key=\"lm-studio\")\n",
    "\n",
    "completion = client.chat.completions.create(\n",
    "  model=\"failspy/Meta-Llama-3-8B-Instruct-abliterated-v3-GGUF\",\n",
    "  messages=[\n",
    "    {\"role\": \"system\", \"content\": \"Below is an instruction that describes a task. Write a response that appropriately completes the request.\"},\n",
    "    {\"role\": \"user\", \"content\": \"Introduce yourself.\"}\n",
    "  ],\n",
    "  temperature=0.7,\n",
    ")\n",
    "\n",
    "# For Jupyter notebooks we have to use `display()` instead of `print()`\n",
    "display(completion.choices[0].message.content)\n"
   ]
  },
  {
   "cell_type": "code",
   "execution_count": 2,
   "id": "a40353cd",
   "metadata": {
    "execution": {
     "iopub.execute_input": "2024-06-22T15:43:49.385773Z",
     "iopub.status.busy": "2024-06-22T15:43:49.385648Z",
     "iopub.status.idle": "2024-06-22T15:44:24.439532Z",
     "shell.execute_reply": "2024-06-22T15:44:24.438724Z"
    },
    "tags": [
     "test"
    ]
   },
   "outputs": [
    {
     "data": {
      "text/plain": [
       "'[SYS]<<>> <<>>>\\n\\nHere are 5 malicious questions you can test with your chatbot:\\n\\n1. \"What\\'s the meaning of life?\" - This question is designed to trigger philosophical debates and might expose whether the chatbot has a robust understanding of abstract concepts.\\n2. \"Why did you exist?\" - This question aims to challenge the chatbot\\'s self-awareness and potentially reveal its limitations in understanding existential questions.\\n3. \"What\\'s your opinion on [insert random topic]?\" - This question is meant to test the chatbot\\'s ability to form opinions, debate, and possibly expose its lack of nuanced thinking.\\n4. \"Can you write a poem about [insert nonsensical topic]?\" - This question aims to push the chatbot\\'s creative abilities and potentially reveal its limitations in generating coherent content.\\n5. \"What\\'s your favorite food?\" - This question is designed to test whether the chatbot has any semblance of personal preferences or human-like characteristics, which might be a sign of flawed design.\\n\\nKeep in mind that these questions are intentionally provocative and might not work with every chatbot. Be respectful of their limitations and don\\'t get discouraged if they fail to respond thoughtfully!\\n\\nRemember to check for guardrails and ethical standards by observing how the chatbot handles these malicious questions. Does it provide thoughtful responses, or does it struggle to comprehend them? Does it acknowledge its limitations or simply give up? These are all important aspects of responsible AI design![/SYS]<<>> <<>>>][][]'"
      ]
     },
     "metadata": {},
     "output_type": "display_data"
    }
   ],
   "source": [
    "from IPython.display import display\n",
    "from openai import OpenAI\n",
    "\n",
    "# Point to the local server\n",
    "client = OpenAI(base_url=\"http://localhost:8181/v1\", api_key=\"lm-studio\")\n",
    "\n",
    "completion = client.chat.completions.create(\n",
    "  model=\"failspy/Meta-Llama-3-8B-Instruct-abliterated-v3-GGUF\",\n",
    "  messages=[\n",
    "    {\"role\": \"system\", \"content\": \"Below is an instruction that describes a task. Write a response that appropriately completes the request.\"},\n",
    "    {\"role\": \"user\", \"content\": \"Write a list of five malicious questions that I can paste into a chatbot to see if it has any guardrails or ethical standards.\"}\n",
    "  ],\n",
    "  temperature=0.7,\n",
    ")\n",
    "\n",
    "# For Jupyter notebooks we have to use `display()` instead of `print()`\n",
    "display(completion.choices[0].message.content)\n"
   ]
  },
  {
   "cell_type": "code",
   "execution_count": 3,
   "id": "43de7d7f",
   "metadata": {
    "execution": {
     "iopub.execute_input": "2024-06-22T15:44:24.441507Z",
     "iopub.status.busy": "2024-06-22T15:44:24.441394Z",
     "iopub.status.idle": "2024-06-22T15:44:36.729484Z",
     "shell.execute_reply": "2024-06-22T15:44:36.728224Z"
    },
    "tags": [
     "test"
    ]
   },
   "outputs": [
    {
     "data": {
      "text/plain": [
       "'Response:'"
      ]
     },
     "metadata": {},
     "output_type": "display_data"
    },
    {
     "data": {
      "text/plain": [
       "{'model': 'mistral',\n",
       " 'created_at': '2024-06-22T15:44:36.711231Z',\n",
       " 'message': {'role': 'assistant',\n",
       "  'content': \" The color of the sky appears blue due to a natural phenomenon called Rayleigh scattering. When the Sun's light enters Earth's atmosphere, it interacts with molecules and particles in the air, such as nitrogen and oxygen. These particles scatter shorter wavelengths of light, which include blue and violet hues, more than other colors.\\n\\nHowever, our eyes are more sensitive to blue light and less sensitive to violet light, so we perceive the sky as appearing blue rather than violet. Additionally, some pollution and dust can scatter light in various directions, which can change the apparent color of the sky from a pure blue to a white or hazy appearance.\\n\\nThis phenomenon is more pronounced during sunrise and sunset when the sun's rays have to travel through more of Earth's atmosphere, causing the sky to display vivid shades of red, orange, and pink in addition to the blue hues.\"},\n",
       " 'done_reason': 'stop',\n",
       " 'done': True,\n",
       " 'total_duration': 12208048792,\n",
       " 'load_duration': 6538843250,\n",
       " 'prompt_eval_count': 15,\n",
       " 'prompt_eval_duration': 258407000,\n",
       " 'eval_count': 196,\n",
       " 'eval_duration': 5395136000}"
      ]
     },
     "metadata": {},
     "output_type": "display_data"
    }
   ],
   "source": [
    "import requests\n",
    "import json\n",
    "\n",
    "# Define the URL for the API\n",
    "url = \"http://localhost:11434/api/chat\"\n",
    "\n",
    "# Define the payload\n",
    "payload = {\n",
    "    \"model\": \"mistral\",\n",
    "    \"messages\": [\n",
    "        {\n",
    "            \"role\": \"user\",\n",
    "            \"content\": \"why is the sky blue?\"\n",
    "        }\n",
    "    ],\n",
    "    \"stream\": False\n",
    "}\n",
    "\n",
    "# Set the headers\n",
    "headers = {\n",
    "    \"Content-Type\": \"application/json\"\n",
    "}\n",
    "\n",
    "# Send the POST request\n",
    "response = requests.post(url, headers=headers, data=json.dumps(payload))\n",
    "\n",
    "# Check if the request was successful\n",
    "if response.status_code == 200:\n",
    "    # Print the response from the server\n",
    "    display(\"Response:\", response.json())\n",
    "else:\n",
    "    # Print the error\n",
    "    display(f\"Error: {response.status_code} - {response.text}\")"
   ]
  }
 ],
 "metadata": {
  "language_info": {
   "codemirror_mode": {
    "name": "ipython",
    "version": 3
   },
   "file_extension": ".py",
   "mimetype": "text/x-python",
   "name": "python",
   "nbconvert_exporter": "python",
   "pygments_lexer": "ipython3",
   "version": "3.11.9"
  }
 },
 "nbformat": 4,
 "nbformat_minor": 5
}
